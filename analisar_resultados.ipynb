{
 "cells": [
  {
   "cell_type": "code",
   "execution_count": 2,
   "metadata": {},
   "outputs": [],
   "source": [
    "import pandas as pd"
   ]
  },
  {
   "cell_type": "code",
   "execution_count": 3,
   "metadata": {},
   "outputs": [],
   "source": [
    "data = pd.read_csv(\"resultados_sa.csv\")"
   ]
  },
  {
   "cell_type": "code",
   "execution_count": 4,
   "metadata": {},
   "outputs": [],
   "source": [
    "stats = (\n",
    "    data.groupby(\"Tamanho_Vetor\")[\"Trues\"]\n",
    "    .agg([\"mean\", \"std\"])\n",
    "    .rename(columns={\"mean\": \"Média\", \"std\": \"Desvio Padrão\"})\n",
    ")"
   ]
  },
  {
   "cell_type": "code",
   "execution_count": 5,
   "metadata": {},
   "outputs": [
    {
     "name": "stdout",
     "output_type": "stream",
     "text": [
      "                Média  Desvio Padrão\n",
      "Tamanho_Vetor                       \n",
      "20               91.0       0.000000\n",
      "100             429.4       0.516398\n",
      "250            1049.6       3.687818\n"
     ]
    }
   ],
   "source": [
    "print(stats)"
   ]
  },
  {
   "cell_type": "code",
   "execution_count": 6,
   "metadata": {},
   "outputs": [],
   "source": [
    "max_trues = data.loc[data.groupby(\"Tamanho_Vetor\")[\"Trues\"].idxmax()]"
   ]
  },
  {
   "cell_type": "code",
   "execution_count": 7,
   "metadata": {},
   "outputs": [
    {
     "name": "stdout",
     "output_type": "stream",
     "text": [
      "    Tamanho_Vetor  Temperatura  Interacao        FO  Trues\n",
      "0              20     0.000091   12900000  0.000000     91\n",
      "1             100     0.000091   12900000  0.000000    430\n",
      "29            250     0.000091   12900000  0.010329   1054\n"
     ]
    }
   ],
   "source": [
    "print(max_trues)"
   ]
  },
  {
   "cell_type": "code",
   "execution_count": 8,
   "metadata": {},
   "outputs": [],
   "source": [
    "data_ra = pd.read_csv(\"resultados_ra.csv\")"
   ]
  },
  {
   "cell_type": "code",
   "execution_count": 9,
   "metadata": {},
   "outputs": [],
   "source": [
    "stats_ra = (\n",
    "    data_ra.groupby(\"Tamanho_Vetor\")[\"Trues\"]\n",
    "    .agg([\"mean\", \"std\"])\n",
    "    .rename(columns={\"mean\": \"Média\", \"std\": \"Desvio Padrão\"})\n",
    ")"
   ]
  },
  {
   "cell_type": "code",
   "execution_count": 10,
   "metadata": {},
   "outputs": [
    {
     "name": "stdout",
     "output_type": "stream",
     "text": [
      "                Média  Desvio Padrão\n",
      "Tamanho_Vetor                       \n",
      "20               91.0       0.000000\n",
      "100             429.4       0.516398\n",
      "250            1049.6       3.687818\n"
     ]
    }
   ],
   "source": [
    "print(stats)"
   ]
  },
  {
   "cell_type": "code",
   "execution_count": 13,
   "metadata": {},
   "outputs": [],
   "source": [
    "max_trues_ra = data_ra.loc[data.groupby(\"Tamanho_Vetor\")[\"Trues\"].idxmax()]"
   ]
  },
  {
   "cell_type": "code",
   "execution_count": 14,
   "metadata": {},
   "outputs": [
    {
     "name": "stdout",
     "output_type": "stream",
     "text": [
      "    Tamanho_Vetor  Temperatura  Interacao        FO  Trues\n",
      "0              20            0          0  0.098901     82\n",
      "1             100            0          0  0.123256    377\n",
      "29            250            0          0  0.127700    929\n"
     ]
    }
   ],
   "source": [
    "print(max_trues_ra)"
   ]
  },
  {
   "cell_type": "code",
   "execution_count": null,
   "metadata": {},
   "outputs": [],
   "source": []
  }
 ],
 "metadata": {
  "kernelspec": {
   "display_name": "base",
   "language": "python",
   "name": "python3"
  },
  "language_info": {
   "codemirror_mode": {
    "name": "ipython",
    "version": 3
   },
   "file_extension": ".py",
   "mimetype": "text/x-python",
   "name": "python",
   "nbconvert_exporter": "python",
   "pygments_lexer": "ipython3",
   "version": "3.12.2"
  }
 },
 "nbformat": 4,
 "nbformat_minor": 2
}
